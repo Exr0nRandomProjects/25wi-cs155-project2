{
 "cells": [
  {
   "cell_type": "code",
   "execution_count": 19,
   "metadata": {},
   "outputs": [],
   "source": [
    "import numpy as np\n",
    "import pandas as pd\n",
    "from matplotlib import pyplot as plt"
   ]
  },
  {
   "cell_type": "code",
   "execution_count": 20,
   "metadata": {},
   "outputs": [],
   "source": [
    "def grad_U(Ui, Yij, Vj, ai, bj, reg, eta):\n",
    "    error = Yij - (np.dot(Ui, Vj) + ai + bj)\n",
    "    return eta * (error * Vj - reg * Ui)\n",
    "\n",
    "def grad_V(Vj, Yij, Ui, ai, bj, reg, eta):\n",
    "    error = Yij - (np.dot(Ui, Vj) + ai + bj)\n",
    "    return eta * (error * Ui - reg * Vj)\n",
    "\n",
    "def grad_a(Yij, Ui, Vj, ai, bj, reg, eta):\n",
    "    error = Yij - (np.dot(Ui, Vj) + ai + bj)\n",
    "    return eta * (error - reg * ai)\n",
    "\n",
    "def grad_b(Yij, Ui, Vj, ai, bj, reg, eta):\n",
    "    error = Yij - (np.dot(Ui, Vj) + ai + bj)\n",
    "    return eta * (error - reg * bj)\n",
    "\n",
    "def get_err(U, V, a, b, Y, reg=0.0):\n",
    "    mse = 0.0\n",
    "    for i, j, Yij in Y:\n",
    "        i, j = int(i) - 1, int(j) - 1\n",
    "        error = Yij - (np.dot(U[i], V[j]) + a[i] + b[j])\n",
    "        mse += error ** 2\n",
    "    mse /= 2\n",
    "    reg_term = (reg / 2) * (np.linalg.norm(U) ** 2 + np.linalg.norm(V) ** 2)\n",
    "    return (mse + reg_term) / Y.shape[0]\n",
    "\n",
    "def train_model(M, N, K, eta, reg, Y, eps=0.0001, max_epochs=300):\n",
    "    U = np.random.uniform(-0.5, 0.5, (M, K))\n",
    "    V = np.random.uniform(-0.5, 0.5, (N, K))\n",
    "    a = np.zeros(M)  # User biases\n",
    "    b = np.zeros(N)  # Movie biases\n",
    "    \n",
    "    initial_loss = get_err(U, V, a, b, Y, reg)\n",
    "    prev_loss = initial_loss\n",
    "    \n",
    "    for epoch in range(max_epochs):\n",
    "        np.random.shuffle(Y)\n",
    "        for i, j, Yij in Y:\n",
    "            i, j = int(i) - 1, int(j) - 1\n",
    "            \n",
    "            U[i] += grad_U(U[i], Yij, V[j], a[i], b[j], reg, eta)\n",
    "            V[j] += grad_V(V[j], Yij, U[i], a[i], b[j], reg, eta)\n",
    "            a[i] += grad_a(Yij, U[i], V[j], a[i], b[j], reg, eta)\n",
    "            b[j] += grad_b(Yij, U[i], V[j], a[i], b[j], reg, eta)\n",
    "        \n",
    "        loss = get_err(U, V, a, b, Y, reg)\n",
    "        loss_delta = prev_loss - loss\n",
    "        if epoch == 0:\n",
    "            initial_reduction = loss_delta\n",
    "        elif loss_delta / initial_reduction <= eps:\n",
    "            print(epoch)\n",
    "            break\n",
    "        prev_loss = loss\n",
    "    \n",
    "    return U, V, a, b, get_err(U, V, a, b, Y, reg=0.0)\n"
   ]
  },
  {
   "cell_type": "code",
   "execution_count": 21,
   "metadata": {},
   "outputs": [],
   "source": [
    "Y_train = pd.read_csv(\"train.csv\").values\n",
    "Y_test = pd.read_csv(\"test.csv\").values"
   ]
  },
  {
   "cell_type": "code",
   "execution_count": 22,
   "metadata": {},
   "outputs": [],
   "source": [
    "M = max(max(Y_train[:,0]), max(Y_test[:,0])).astype(int)\n",
    "N = max(max(Y_train[:,1]), max(Y_test[:,1])).astype(int)"
   ]
  },
  {
   "cell_type": "code",
   "execution_count": 23,
   "metadata": {},
   "outputs": [],
   "source": [
    "def train_and_evaluate(params):\n",
    "    K, eta, reg, train_index, val_index = params\n",
    "    \n",
    "    train_set, val_set = Y_train[train_index], Y_train[val_index]\n",
    "\n",
    "    U, V, a, b, e_in = train_model(M, N, 20, eta, reg, train_set)\n",
    "    \n",
    "    e_out = get_err(U, V, a, b, val_set)\n",
    "    \n",
    "    \n",
    "    return (K, eta, reg, e_in, e_out)"
   ]
  },
  {
   "cell_type": "code",
   "execution_count": 24,
   "metadata": {},
   "outputs": [
    {
     "name": "stderr",
     "output_type": "stream",
     "text": [
      "  0%|          | 0/100 [00:00<?, ?it/s]"
     ]
    },
    {
     "name": "stdout",
     "output_type": "stream",
     "text": [
      "6\n",
      "8\n",
      "8\n",
      "9\n",
      "13\n",
      "18\n",
      "22\n",
      "21\n",
      "22\n",
      "25\n",
      "50\n",
      "50\n",
      "55\n",
      "57\n",
      "58\n",
      "37\n",
      "42\n",
      "16\n",
      "18\n",
      "50\n",
      "5\n",
      "24\n",
      "15\n",
      "8\n",
      "7\n",
      "34\n",
      "21\n",
      "7\n",
      "38\n",
      "11\n",
      "93\n",
      "96\n",
      "107\n",
      "102\n",
      "120\n",
      "123\n",
      "124\n",
      "120\n",
      "124\n",
      "114\n",
      "14\n",
      "12\n",
      "18\n",
      "26\n",
      "12\n",
      "27\n",
      "6\n",
      "14\n",
      "2\n",
      "2\n",
      "2\n",
      "4\n",
      "33\n",
      "67\n",
      "17\n",
      "67\n",
      "36\n",
      "71\n",
      "75\n",
      "69\n",
      "23\n",
      "14\n",
      "21\n",
      "14\n",
      "22\n",
      "53\n",
      "61\n",
      "62\n",
      "63\n",
      "9\n",
      "10\n",
      "7\n",
      "2\n",
      "3\n",
      "66\n",
      "2\n",
      "9\n",
      "4\n",
      "4\n",
      "12\n",
      "267\n",
      "190\n",
      "266\n",
      "270\n",
      "283\n",
      "287\n",
      "205\n",
      "200\n",
      "202\n"
     ]
    },
    {
     "name": "stderr",
     "output_type": "stream",
     "text": [
      "  1%|          | 1/100 [13:08<21:40:51, 788.40s/it]"
     ]
    },
    {
     "name": "stdout",
     "output_type": "stream",
     "text": [
      "205\n"
     ]
    },
    {
     "name": "stderr",
     "output_type": "stream",
     "text": [
      "  2%|▏         | 2/100 [13:12<8:54:36, 327.31s/it] "
     ]
    },
    {
     "name": "stdout",
     "output_type": "stream",
     "text": [
      "155\n"
     ]
    },
    {
     "name": "stderr",
     "output_type": "stream",
     "text": [
      " 76%|███████▌  | 76/100 [13:16<02:05,  5.22s/it]  "
     ]
    },
    {
     "name": "stdout",
     "output_type": "stream",
     "text": [
      "153\n",
      "160\n",
      "163\n"
     ]
    },
    {
     "name": "stderr",
     "output_type": "stream",
     "text": [
      " 76%|███████▌  | 76/100 [13:27<02:05,  5.22s/it]"
     ]
    },
    {
     "name": "stdout",
     "output_type": "stream",
     "text": [
      "173\n"
     ]
    },
    {
     "name": "stderr",
     "output_type": "stream",
     "text": [
      "100%|██████████| 100/100 [13:42<00:00,  8.22s/it]\n"
     ]
    }
   ],
   "source": [
    "from sklearn.model_selection import KFold\n",
    "import numpy as np\n",
    "from multiprocessing import Pool\n",
    "from tqdm import tqdm\n",
    "\n",
    "regs = [0.05, 0.1, 0.15, 0.2]\n",
    "etas = np.geomspace(0.001, 0.1, 5)\n",
    "\n",
    "kf = KFold(n_splits=5, shuffle=True)\n",
    "\n",
    "tasks = []\n",
    "for reg in regs:\n",
    "    for eta in etas:\n",
    "        for fold, (train_index, val_index) in enumerate(kf.split(Y_train)):\n",
    "            tasks.append((20, eta, reg, train_index, val_index))\n",
    "\n",
    "with Pool(28) as pool:\n",
    "    results = list(tqdm(pool.imap(train_and_evaluate, tasks), total=len(tasks)))\n",
    "    pool.close()\n",
    "    pool.join()\n",
    "    \n",
    "E_ins = {}\n",
    "E_outs = {}\n",
    "\n",
    "for K, eta, reg, e_in, e_out in results:\n",
    "    if (eta, reg) not in E_ins:\n",
    "        E_ins[(eta, reg)] = []\n",
    "        E_outs[(eta, reg)] = []\n",
    "    E_ins[(eta, reg)].append(e_in)\n",
    "    E_outs[(eta, reg)].append(e_out)\n",
    "\n",
    "E_ins_avg = [(eta, reg, np.mean(E_ins[(eta, reg)])) for eta, reg, in E_ins]\n",
    "E_outs_avg = [(eta, reg, np.mean(E_outs[(eta, reg)])) for eta, reg, in E_outs]"
   ]
  },
  {
   "cell_type": "code",
   "execution_count": 25,
   "metadata": {},
   "outputs": [],
   "source": [
    "E_outs_avg.sort(key=lambda x: x[2])"
   ]
  },
  {
   "cell_type": "code",
   "execution_count": 26,
   "metadata": {},
   "outputs": [
    {
     "data": {
      "text/plain": [
       "[(np.float64(0.01), 0.1, np.float64(0.43640303205783637)),\n",
       " (np.float64(0.0031622776601683794), 0.1, np.float64(0.43655592600282)),\n",
       " (np.float64(0.001), 0.1, np.float64(0.4389714438452832)),\n",
       " (np.float64(0.01), 0.15, np.float64(0.44656923211667393)),\n",
       " (np.float64(0.03162277660168379), 0.1, np.float64(0.44877555785928047)),\n",
       " (np.float64(0.03162277660168379), 0.15, np.float64(0.4513542127054615)),\n",
       " (np.float64(0.0031622776601683794), 0.15, np.float64(0.45181556143509194)),\n",
       " (np.float64(0.001), 0.15, np.float64(0.4553386596857944)),\n",
       " (np.float64(0.001), 0.05, np.float64(0.46814549994551324)),\n",
       " (np.float64(0.03162277660168379), 0.2, np.float64(0.4699028669076949)),\n",
       " (np.float64(0.0031622776601683794), 0.05, np.float64(0.47128252594186304)),\n",
       " (np.float64(0.0031622776601683794), 0.2, np.float64(0.4723684970555241)),\n",
       " (np.float64(0.01), 0.2, np.float64(0.4768829985999659)),\n",
       " (np.float64(0.01), 0.05, np.float64(0.4783706148016817)),\n",
       " (np.float64(0.001), 0.2, np.float64(0.48029249780854444)),\n",
       " (np.float64(0.03162277660168379), 0.05, np.float64(0.4928460019307083)),\n",
       " (np.float64(0.1), 0.1, np.float64(0.5152580279864949)),\n",
       " (np.float64(0.1), 0.15, np.float64(0.5290165952776749)),\n",
       " (np.float64(0.1), 0.2, np.float64(0.5354979015399651)),\n",
       " (np.float64(0.1), 0.05, np.float64(0.5666198096153371))]"
      ]
     },
     "execution_count": 26,
     "metadata": {},
     "output_type": "execute_result"
    }
   ],
   "source": [
    "E_outs_avg"
   ]
  },
  {
   "cell_type": "code",
   "execution_count": 28,
   "metadata": {},
   "outputs": [
    {
     "name": "stderr",
     "output_type": "stream",
     "text": [
      "/tmp/ipykernel_77637/3541705566.py:10: UserWarning: You have used the `textcoords` kwarg, but not the `xytext` kwarg.  This can lead to surprising results.\n",
      "  plt.annotate(f\"{z:.3f}\", (x, y), textcoords=\"offset points\")\n"
     ]
    },
    {
     "data": {
      "image/png": "[encoded data removed]",
      "text/plain": [
       "<Figure size 800x600 with 2 Axes>"
      ]
     },
     "metadata": {},
     "output_type": "display_data"
    }
   ],
   "source": [
    "x_vals, y_vals, z_vals = zip(*E_outs_avg)\n",
    "\n",
    "plt.figure(figsize=(8, 6))\n",
    "scatter = plt.scatter(x_vals, y_vals, c=z_vals, s=500)\n",
    "\n",
    "cbar = plt.colorbar(scatter)\n",
    "cbar.set_label('Error')\n",
    "\n",
    "for x, y, z in zip(x_vals, y_vals, z_vals):\n",
    "    plt.annotate(f\"{z:.3f}\", (x, y), textcoords=\"offset points\")\n",
    "\n",
    "plt.xlabel('Eta')\n",
    "plt.xscale('log')\n",
    "plt.ylabel('Reg')\n",
    "\n",
    "# Show plot\n",
    "plt.show()"
   ]
  },
  {
   "cell_type": "code",
   "execution_count": 29,
   "metadata": {},
   "outputs": [
    {
     "name": "stdout",
     "output_type": "stream",
     "text": [
      "35\n"
     ]
    }
   ],
   "source": [
    "U, V, a, b, e_in = train_model(M, N, 20, 0.01, 0.1, Y_train)"
   ]
  },
  {
   "cell_type": "code",
   "execution_count": 32,
   "metadata": {},
   "outputs": [
    {
     "data": {
      "text/plain": [
       "np.float64(0.4195994797280998)"
      ]
     },
     "execution_count": 32,
     "metadata": {},
     "output_type": "execute_result"
    }
   ],
   "source": [
    "get_err(U, V, a, b, Y_test)"
   ]
  },
  {
   "cell_type": "code",
   "execution_count": 33,
   "metadata": {},
   "outputs": [],
   "source": [
    "np.save(\"scratch_bias\", V)"
   ]
  }
 ],
 "metadata": {
  "kernelspec": {
   "display_name": "cs155-mp2",
   "language": "python",
   "name": "python3"
  },
  "language_info": {
   "codemirror_mode": {
    "name": "ipython",
    "version": 3
   },
   "file_extension": ".py",
   "mimetype": "text/x-python",
   "name": "python",
   "nbconvert_exporter": "python",
   "pygments_lexer": "ipython3",
   "version": "3.12.2"
  }
 },
 "nbformat": 4,
 "nbformat_minor": 2
}
