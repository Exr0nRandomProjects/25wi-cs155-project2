{
 "cells": [
  {
   "cell_type": "code",
   "execution_count": 72,
   "metadata": {},
   "outputs": [],
   "source": [
    "from surprise.prediction_algorithms.matrix_factorization import SVD\n",
    "from surprise import Reader, Dataset, accuracy\n",
    "from surprise.model_selection import cross_validate, train_test_split, GridSearchCV\n",
    "import pandas as pd"
   ]
  },
  {
   "cell_type": "code",
   "execution_count": 73,
   "metadata": {},
   "outputs": [],
   "source": [
    "def evaluate(clf, test):\n",
    "    error = 0\n",
    "    for i, j ,y in test.values:\n",
    "        pred = clf.predict(int(i), int(j)).est\n",
    "        error += (pred - y) ** 2\n",
    "    return error / test.shape[0] / 2"
   ]
  },
  {
   "cell_type": "code",
   "execution_count": 74,
   "metadata": {},
   "outputs": [],
   "source": [
    "train_df = pd.read_csv(\"train.csv\")\n",
    "test_df = pd.read_csv(\"test.csv\")\n",
    "\n",
    "\n",
    "reader = Reader(rating_scale=(1, 5))\n",
    "\n",
    "train = Dataset.load_from_df(train_df[[\"User ID\", \"Movie ID\", \"Rating\"]], reader)\n",
    "\n",
    "param_grid = {\"n_epochs\": [100, 150, 200], \"lr_all\": [0.001, 0.003, 0.005], \"reg_all\": [0.05, 0.1, 0.2]}\n",
    "clf = GridSearchCV(SVD, param_grid, measures=[\"mse\"], cv=5, refit=True, n_jobs=-1)\n",
    "\n",
    "clf.fit(train)"
   ]
  },
  {
   "cell_type": "code",
   "execution_count": 75,
   "metadata": {},
   "outputs": [
    {
     "data": {
      "text/plain": [
       "0.40757047507501337"
      ]
     },
     "execution_count": 75,
     "metadata": {},
     "output_type": "execute_result"
    }
   ],
   "source": [
    "evaluate(clf, test_df)"
   ]
  },
  {
   "cell_type": "code",
   "execution_count": 78,
   "metadata": {},
   "outputs": [
    {
     "name": "stdout",
     "output_type": "stream",
     "text": [
      "{'mse': {'n_epochs': 100, 'lr_all': 0.005, 'reg_all': 0.1}}\n"
     ]
    }
   ],
   "source": [
    "print(clf.best_params)"
   ]
  }
 ],
 "metadata": {
  "kernelspec": {
   "display_name": "cs155-mp2",
   "language": "python",
   "name": "python3"
  },
  "language_info": {
   "codemirror_mode": {
    "name": "ipython",
    "version": 3
   },
   "file_extension": ".py",
   "mimetype": "text/x-python",
   "name": "python",
   "nbconvert_exporter": "python",
   "pygments_lexer": "ipython3",
   "version": "3.12.9"
  }
 },
 "nbformat": 4,
 "nbformat_minor": 2
}
