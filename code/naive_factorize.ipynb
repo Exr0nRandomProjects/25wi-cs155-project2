{
 "cells": [
  {
   "cell_type": "code",
   "execution_count": 1,
   "metadata": {},
   "outputs": [],
   "source": [
    "import numpy as np\n",
    "import pandas as pd\n",
    "from matplotlib import pyplot as plt"
   ]
  },
  {
   "cell_type": "code",
   "execution_count": 2,
   "metadata": {},
   "outputs": [],
   "source": [
    "import numpy as np\n",
    "\n",
    "def grad_U(Ui, Yij, Vj, reg, eta):\n",
    "    error = Yij - np.dot(Ui, Vj)\n",
    "    return eta * (error * Vj - reg * Ui)\n",
    "\n",
    "def grad_V(Vj, Yij, Ui, reg, eta):\n",
    "    error = Yij - np.dot(Ui, Vj)\n",
    "    return eta * (error * Ui - reg * Vj)\n",
    "\n",
    "def get_err(U, V, Y, reg=0.0):\n",
    "    mse = 0.0\n",
    "    for i, j, Yij in Y:\n",
    "        i, j = int(i) - 1, int(j) - 1\n",
    "        error = Yij - np.dot(U[i], V[j])\n",
    "        mse += error**2\n",
    "    mse /= 2\n",
    "    reg_term = (reg/2) * (np.linalg.norm(U) ** 2 + np.linalg.norm(V) ** 2)\n",
    "    return (mse + reg_term) / Y.shape[0]\n",
    "\n",
    "def train_model(M, N, K, eta, reg, Y, eps=0.0001, max_epochs=300):\n",
    "    U = np.random.uniform(-0.5, 0.5, (M, K))\n",
    "    V = np.random.uniform(-0.5, 0.5, (N, K))\n",
    "    initial_loss = get_err(U, V, Y, reg)\n",
    "    prev_loss = initial_loss\n",
    "\n",
    "    for epoch in range(max_epochs):\n",
    "        np.random.shuffle(Y)\n",
    "        for i, j, Yij in Y:\n",
    "            i, j = int(i) - 1, int(j) - 1\n",
    "            U[i] += grad_U(U[i], Yij, V[j], reg, eta)\n",
    "            V[j] += grad_V(V[j], Yij, U[i], reg, eta)\n",
    "\n",
    "        loss = get_err(U, V, Y, reg)\n",
    "        loss_delta = prev_loss - loss\n",
    "        if epoch == 0:\n",
    "            initial_reduction = loss_delta\n",
    "        elif loss_delta / initial_reduction <= eps:\n",
    "            print(epoch)\n",
    "            break\n",
    "        prev_loss = loss\n",
    "\n",
    "    return U, V, get_err(U, V, Y, reg=0.0)\n"
   ]
  },
  {
   "cell_type": "code",
   "execution_count": null,
   "metadata": {},
   "outputs": [],
   "source": [
    "Y_train = pd.read_csv(\"../data/train.csv\").values\n",
    "Y_test = pd.read_csv(\"../data/test.csv\").values"
   ]
  },
  {
   "cell_type": "code",
   "execution_count": 4,
   "metadata": {},
   "outputs": [],
   "source": [
    "M = max(max(Y_train[:,0]), max(Y_test[:,0])).astype(int) # users\n",
    "N = max(max(Y_train[:,1]), max(Y_test[:,1])).astype(int) # movies"
   ]
  },
  {
   "cell_type": "code",
   "execution_count": 5,
   "metadata": {},
   "outputs": [],
   "source": [
    "def train_and_evaluate(params):\n",
    "    K, eta, reg, train_index, val_index = params\n",
    "    \n",
    "    train_set, val_set = Y_train[train_index], Y_train[val_index]\n",
    "\n",
    "    U, V, e_in = train_model(M, N, 20, eta, reg, train_set)\n",
    "    \n",
    "    e_out = get_err(U, V, val_set)\n",
    "    \n",
    "    \n",
    "    return (K, eta, reg, e_in, e_out)"
   ]
  },
  {
   "cell_type": "code",
   "execution_count": 6,
   "metadata": {},
   "outputs": [
    {
     "name": "stderr",
     "output_type": "stream",
     "text": [
      "  0%|          | 0/100 [00:00<?, ?it/s]"
     ]
    },
    {
     "name": "stdout",
     "output_type": "stream",
     "text": [
      "7\n",
      "8\n",
      "8\n",
      "10\n",
      "10\n",
      "15\n",
      "19\n",
      "18\n",
      "18\n",
      "23\n",
      "18\n",
      "18\n",
      "47\n",
      "37\n",
      "51\n",
      "42\n",
      "36\n",
      "37\n",
      "16\n",
      "7\n",
      "19\n",
      "43\n",
      "54\n",
      "58\n",
      "5\n",
      "59\n",
      "7\n",
      "16\n",
      "8\n",
      "9\n",
      "11\n",
      "17\n",
      "80\n",
      "15\n",
      "39\n",
      "16\n",
      "7\n",
      "41\n",
      "94\n",
      "15\n",
      "111\n",
      "104\n",
      "7\n",
      "3\n",
      "7\n",
      "49\n",
      "7\n",
      "7\n",
      "4\n",
      "15\n",
      "5\n",
      "5\n",
      "55\n",
      "56\n",
      "120\n",
      "15\n",
      "27\n",
      "26\n",
      "34\n",
      "19\n",
      "35\n",
      "4\n",
      "13\n",
      "5\n",
      "37\n",
      "4\n",
      "167\n",
      "11\n",
      "1\n",
      "3\n",
      "17\n",
      "3\n",
      "3\n",
      "2\n",
      "7\n",
      "9\n",
      "175\n",
      "171\n",
      "176\n",
      "189\n",
      "151\n",
      "106\n",
      "157\n",
      "102\n",
      "154\n",
      "110\n",
      "112\n",
      "114\n",
      "175\n",
      "184\n"
     ]
    },
    {
     "name": "stderr",
     "output_type": "stream",
     "text": [
      "100%|██████████| 100/100 [10:26<00:00,  6.27s/it]  \n"
     ]
    }
   ],
   "source": [
    "from sklearn.model_selection import KFold\n",
    "import numpy as np\n",
    "from multiprocessing import Pool\n",
    "from tqdm import tqdm\n",
    "\n",
    "regs = [0.05, 0.1, 0.15, 0.2]\n",
    "etas = np.geomspace(0.001, 0.1, 5)\n",
    "\n",
    "kf = KFold(n_splits=5, shuffle=True)\n",
    "\n",
    "tasks = []\n",
    "for reg in regs:\n",
    "    for eta in etas:\n",
    "        for fold, (train_index, val_index) in enumerate(kf.split(Y_train)):\n",
    "            tasks.append((20, eta, reg, train_index, val_index))\n",
    "\n",
    "with Pool(32) as pool:\n",
    "    results = list(tqdm(pool.imap(train_and_evaluate, tasks), total=len(tasks)))\n",
    "    pool.close()\n",
    "    pool.join()\n",
    "    \n",
    "E_ins = {}\n",
    "E_outs = {}\n",
    "\n",
    "for K, eta, reg, e_in, e_out in results:\n",
    "    if (eta, reg) not in E_ins:\n",
    "        E_ins[(eta, reg)] = []\n",
    "        E_outs[(eta, reg)] = []\n",
    "    E_ins[(eta, reg)].append(e_in)\n",
    "    E_outs[(eta, reg)].append(e_out)\n",
    "\n",
    "E_ins_avg = [(eta, reg, np.mean(E_ins[(eta, reg)])) for eta, reg, in E_ins]\n",
    "E_outs_avg = [(eta, reg, np.mean(E_outs[(eta, reg)])) for eta, reg, in E_outs]"
   ]
  },
  {
   "cell_type": "code",
   "execution_count": 20,
   "metadata": {},
   "outputs": [
    {
     "name": "stdout",
     "output_type": "stream",
     "text": [
      "[0.001      0.00316228 0.01       0.03162278 0.1       ]\n"
     ]
    }
   ],
   "source": [
    "print(etas)"
   ]
  },
  {
   "cell_type": "code",
   "execution_count": null,
   "metadata": {},
   "outputs": [
    {
     "name": "stderr",
     "output_type": "stream",
     "text": [
      "/tmp/ipykernel_73195/3541705566.py:10: UserWarning: You have used the `textcoords` kwarg, but not the `xytext` kwarg.  This can lead to surprising results.\n",
      "  plt.annotate(f\"{z:.3f}\", (x, y), textcoords=\"offset points\")\n"
     ]
    },
    {
     "data": {
      "image/png": "[encoded data removed]",
      "text/plain": [
       "<Figure size 800x600 with 2 Axes>"
      ]
     },
     "metadata": {},
     "output_type": "display_data"
    }
   ],
   "source": [
    "x_vals, y_vals, z_vals = zip(*E_outs_avg)\n",
    "\n",
    "plt.figure(figsize=(8, 6))\n",
    "scatter = plt.scatter(x_vals, y_vals, c=z_vals, s=500)\n",
    "\n",
    "cbar = plt.colorbar(scatter)\n",
    "cbar.set_label('Error')\n",
    "\n",
    "for x, y, z in zip(x_vals, y_vals, z_vals):\n",
    "    plt.annotate(f\"{z:.3f}\", (x, y), textcoords=\"offset points\")\n",
    "\n",
    "plt.xlabel('Eta')\n",
    "plt.xscale('log')\n",
    "plt.ylabel('Reg')\n",
    "\n",
    "# Show plot\n",
    "plt.show()"
   ]
  },
  {
   "cell_type": "code",
   "execution_count": 22,
   "metadata": {},
   "outputs": [
    {
     "name": "stdout",
     "output_type": "stream",
     "text": [
      "84\n"
     ]
    }
   ],
   "source": [
    "U, V, e_in = train_model(M, N, 20, 0.003, 0.1, Y_train)"
   ]
  },
  {
   "cell_type": "code",
   "execution_count": 23,
   "metadata": {},
   "outputs": [
    {
     "data": {
      "text/plain": [
       "np.float64(0.42729389177895183)"
      ]
     },
     "execution_count": 23,
     "metadata": {},
     "output_type": "execute_result"
    }
   ],
   "source": [
    "get_err(U, V, Y_test)"
   ]
  },
  {
   "cell_type": "code",
   "execution_count": null,
   "metadata": {},
   "outputs": [],
   "source": [
    "np.save(\"../data/naive\", V)"
   ]
  }
 ],
 "metadata": {
  "kernelspec": {
   "display_name": "cs155-mp2",
   "language": "python",
   "name": "python3"
  },
  "language_info": {
   "codemirror_mode": {
    "name": "ipython",
    "version": 3
   },
   "file_extension": ".py",
   "mimetype": "text/x-python",
   "name": "python",
   "nbconvert_exporter": "python",
   "pygments_lexer": "ipython3",
   "version": "3.12.2"
  }
 },
 "nbformat": 4,
 "nbformat_minor": 2
}
