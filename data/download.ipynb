{
  "cells": [
    {
      "cell_type": "markdown",
      "metadata": {
        "id": "IZS2TF_0POKG"
      },
      "source": [
        "## Miniproject 2: MovieLens Visualization\n",
        "\n"
      ]
    },
    {
      "cell_type": "markdown",
      "metadata": {
        "id": "mkqnGH1OPbaX"
      },
      "source": [
        "### Download data"
      ]
    },
    {
      "cell_type": "code",
      "execution_count": 2,
      "metadata": {
        "colab": {
          "base_uri": "https://localhost:8080/"
        },
        "id": "pQ9PDDToPuo7",
        "outputId": "abaa1a54-91b4-4179-94fc-8af7b56f4fed"
      },
      "outputs": [
        {
          "name": "stdout",
          "output_type": "stream",
          "text": [
            "Start downloading...\n",
            "Complete\n",
            "Start downloading...\n",
            "Complete\n",
            "Start downloading...\n",
            "Complete\n",
            "Start downloading...\n",
            "Complete\n"
          ]
        }
      ],
      "source": [
        "import requests\n",
        "\n",
        "url_dict = {\n",
        "     'data.csv': 'https://caltech-cs155.s3.us-east-2.amazonaws.com/sets/miniprojects/project2/data/data.csv',\n",
        "     'movies.csv': 'https://caltech-cs155.s3.us-east-2.amazonaws.com/sets/miniprojects/project2/data/movies.csv',\n",
        "     'train.csv': 'https://caltech-cs155.s3.us-east-2.amazonaws.com/sets/miniprojects/project2/data/train.csv',\n",
        "     'test.csv': 'https://caltech-cs155.s3.us-east-2.amazonaws.com/sets/miniprojects/project2/data/test.csv'\n",
        "}\n",
        "\n",
        "def download_file(file_path):\n",
        "    url = url_dict[file_path]\n",
        "    print('Start downloading...')\n",
        "    with requests.get(url, stream=True) as r:\n",
        "        r.raise_for_status()\n",
        "        with open(file_path, 'wb') as f:\n",
        "            for chunk in r.iter_content(chunk_size=1024 * 1024 * 1024):\n",
        "                f.write(chunk)\n",
        "    print('Complete')\n",
        "\n",
        "download_file('data.csv')\n",
        "download_file('movies.csv')\n",
        "download_file('train.csv')\n",
        "download_file('test.csv')"
      ]
    }
  ],
  "metadata": {
    "colab": {
      "provenance": []
    },
    "kernelspec": {
      "display_name": "cs155-mp2",
      "language": "python",
      "name": "python3"
    },
    "language_info": {
      "codemirror_mode": {
        "name": "ipython",
        "version": 3
      },
      "file_extension": ".py",
      "mimetype": "text/x-python",
      "name": "python",
      "nbconvert_exporter": "python",
      "pygments_lexer": "ipython3",
      "version": "3.12.9"
    }
  },
  "nbformat": 4,
  "nbformat_minor": 0
}
